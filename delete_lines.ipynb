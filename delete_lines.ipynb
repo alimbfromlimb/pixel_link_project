{
 "cells": [
  {
   "cell_type": "code",
   "execution_count": 3,
   "metadata": {},
   "outputs": [],
   "source": [
    "alphabet = []\n",
    "for letter in range(97,123):\n",
    "    alphabet.append(chr(letter))\n",
    "    \n",
    "for letter in range(48,58):\n",
    "    alphabet.append(chr(letter))    \n",
    "\n",
    "new_document = []    \n",
    "    \n",
    "with open('out.txt') as f:\n",
    "    lines = f.readlines()\n",
    "    for line in lines:\n",
    "        l = line.split()\n",
    "        word = l[-1]\n",
    "        flag = 1\n",
    "        if (len(l) > 2):\n",
    "            flag = 0    \n",
    "        for letter in word:\n",
    "            if letter not in alphabet:\n",
    "                flag = 0\n",
    "        if flag:\n",
    "            new_document.append(line)\n",
    "           \n",
    "with open('out_new.txt', 'w+') as f:\n",
    "    f.writelines(new_document)"
   ]
  },
  {
   "cell_type": "code",
   "execution_count": 4,
   "metadata": {},
   "outputs": [
    {
     "data": {
      "text/plain": [
       "1585"
      ]
     },
     "execution_count": 4,
     "metadata": {},
     "output_type": "execute_result"
    }
   ],
   "source": [
    "len(new_document)"
   ]
  },
  {
   "cell_type": "code",
   "execution_count": 5,
   "metadata": {},
   "outputs": [
    {
     "data": {
      "text/plain": [
       "'fudxfgchvgjkbnbhvgcf'"
      ]
     },
     "execution_count": 5,
     "metadata": {},
     "output_type": "execute_result"
    }
   ],
   "source": [
    "a = 'efseasc'\n",
    "b = 'fudxfgchvgjkbnbhvgcf'\n",
    "max(a, b)"
   ]
  },
  {
   "cell_type": "code",
   "execution_count": null,
   "metadata": {},
   "outputs": [],
   "source": []
  }
 ],
 "metadata": {
  "kernelspec": {
   "display_name": "Python 3",
   "language": "python",
   "name": "python3"
  },
  "language_info": {
   "codemirror_mode": {
    "name": "ipython",
    "version": 3
   },
   "file_extension": ".py",
   "mimetype": "text/x-python",
   "name": "python",
   "nbconvert_exporter": "python",
   "pygments_lexer": "ipython3",
   "version": "3.6.8"
  }
 },
 "nbformat": 4,
 "nbformat_minor": 2
}
